{
 "cells": [
  {
   "cell_type": "code",
   "execution_count": 4,
   "id": "9986bb28",
   "metadata": {},
   "outputs": [
    {
     "name": "stdout",
     "output_type": "stream",
     "text": [
      "    study_question  count  accuracy\n",
      "4            safer   1673  0.655111\n",
      "5        wealthier    589  0.633277\n",
      "1   more beautiful    591  0.612521\n",
      "0         livelier   1378  0.595791\n",
      "2      more boring    473  0.594080\n",
      "3  more depressing    488  0.586066\n"
     ]
    }
   ],
   "source": [
    "import pandas as pd\n",
    "\n",
    "# Load your results file\n",
    "df = pd.read_csv(\"results_google/gemma-3-27b/llm_predictions_gemma-3-27b_Zero-shot1-GEO.csv\")  # or whatever your filename is\n",
    "\n",
    "# Normalize class names\n",
    "df[\"study_question\"] = df[\"study_question\"].str.strip().str.lower()\n",
    "\n",
    "# Group by class and compute count and accuracy\n",
    "summary = (\n",
    "    df.groupby(\"study_question\")\n",
    "      .agg(\n",
    "          count=(\"validation\", \"count\"),\n",
    "          accuracy=(\"validation\", \"mean\")\n",
    "      )\n",
    "      .reset_index()\n",
    "      .sort_values(\"accuracy\", ascending=False)\n",
    ")\n",
    "\n",
    "# Show or save\n",
    "print(summary)\n",
    "# summary.to_csv(\"study_question_accuracy_summary.csv\", index=False)\n",
    "\n"
   ]
  }
 ],
 "metadata": {
  "kernelspec": {
   "display_name": "GraphRAG",
   "language": "python",
   "name": "python3"
  },
  "language_info": {
   "codemirror_mode": {
    "name": "ipython",
    "version": 3
   },
   "file_extension": ".py",
   "mimetype": "text/x-python",
   "name": "python",
   "nbconvert_exporter": "python",
   "pygments_lexer": "ipython3",
   "version": "3.10.16"
  }
 },
 "nbformat": 4,
 "nbformat_minor": 5
}
