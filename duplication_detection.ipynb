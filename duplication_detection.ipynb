{
 "cells": [
  {
   "cell_type": "code",
   "execution_count": 9,
   "id": "9c38c717",
   "metadata": {},
   "outputs": [
    {
     "name": "stdout",
     "output_type": "stream",
     "text": [
      "🧠 Unique study_question values:\n",
      "- wealthier\n",
      "- more beautiful\n",
      "- livelier\n",
      "- more depressing\n",
      "- safer\n",
      "- more boring\n",
      "- nan\n"
     ]
    }
   ],
   "source": [
    "import pandas as pd\n",
    "\n",
    "# Load CSV\n",
    "df = pd.read_csv(\"votes_clean.csv\")\n",
    "# Get unique study_question values\n",
    "unique_questions = df[\"study_question\"].unique()\n",
    "\n",
    "# Print them\n",
    "print(\"🧠 Unique study_question values:\")\n",
    "for q in unique_questions:\n",
    "    print(f\"- {q}\")"
   ]
  },
  {
   "cell_type": "code",
   "execution_count": 7,
   "id": "0e2cd17a",
   "metadata": {},
   "outputs": [
    {
     "name": "stdout",
     "output_type": "stream",
     "text": [
      "✅ Updated summary with 'equal' saved to 'repeated_pairs_vote_summary.csv'\n"
     ]
    },
    {
     "name": "stderr",
     "output_type": "stream",
     "text": [
      "C:\\Users\\zwang31\\AppData\\Local\\Temp\\ipykernel_48272\\212485569.py:34: DeprecationWarning: DataFrameGroupBy.apply operated on the grouping columns. This behavior is deprecated, and in a future version of pandas the grouping columns will be excluded from the operation. Either pass `include_groups=False` to exclude the groupings or explicitly select the grouping columns after groupby to silence this warning.\n",
      "  .apply(summarize_group)\n"
     ]
    }
   ],
   "source": [
    "import pandas as pd\n",
    "\n",
    "# Load CSV\n",
    "df = pd.read_csv(\"votes_clean.csv\")\n",
    "\n",
    "# Create unordered pair key\n",
    "df[\"pair_key\"] = df.apply(lambda row: frozenset([str(row[\"left\"]), str(row[\"right\"])]), axis=1)\n",
    "\n",
    "# Count occurrences\n",
    "pair_counts = df[\"pair_key\"].value_counts()\n",
    "repeating_pairs = pair_counts[pair_counts > 1]\n",
    "\n",
    "# Filter repeated rows\n",
    "duplicates_df = df[df[\"pair_key\"].isin(repeating_pairs.index)].copy()\n",
    "\n",
    "# Normalize left/right\n",
    "duplicates_df[[\"left_sorted\", \"right_sorted\"]] = duplicates_df.apply(\n",
    "    lambda row: pd.Series(sorted([str(row[\"left\"]), str(row[\"right\"])])), axis=1\n",
    ")\n",
    "\n",
    "# Group and summarize\n",
    "def summarize_group(group):\n",
    "    return pd.Series({\n",
    "        \"left\": (group[\"choice\"] == \"left\").sum(),\n",
    "        \"right\": (group[\"choice\"] == \"right\").sum(),\n",
    "        \"equal\": (group[\"choice\"] == \"equal\").sum(),\n",
    "        \"total\": len(group),\n",
    "        \"study_questions\": list(group[\"study_question\"].unique())\n",
    "    })\n",
    "\n",
    "summary_df = (\n",
    "    duplicates_df\n",
    "    .groupby([\"left_sorted\", \"right_sorted\"])\n",
    "    .apply(summarize_group)\n",
    "    .reset_index()\n",
    "    .sort_values(\"total\", ascending=False)\n",
    ")\n",
    "\n",
    "# Save to CSV\n",
    "summary_df.to_csv(\"repeated_pairs_vote_summary.csv\", index=False)\n",
    "print(\"✅ Updated summary with 'equal' saved to 'repeated_pairs_vote_summary.csv'\")"
   ]
  }
 ],
 "metadata": {
  "kernelspec": {
   "display_name": "GraphRAG",
   "language": "python",
   "name": "python3"
  },
  "language_info": {
   "codemirror_mode": {
    "name": "ipython",
    "version": 3
   },
   "file_extension": ".py",
   "mimetype": "text/x-python",
   "name": "python",
   "nbconvert_exporter": "python",
   "pygments_lexer": "ipython3",
   "version": "3.10.16"
  }
 },
 "nbformat": 4,
 "nbformat_minor": 5
}
